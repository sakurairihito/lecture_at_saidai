{
 "cells": [
  {
   "cell_type": "code",
   "execution_count": 2,
   "id": "f6f60cde-714f-4188-b56a-9f3ca3c686ce",
   "metadata": {},
   "outputs": [
    {
     "name": "stdout",
     "output_type": "stream",
     "text": [
      "Collecting package metadata (current_repodata.json): ...working... done\n",
      "Solving environment: ...working... failed with initial frozen solve. Retrying with flexible solve.\n",
      "Collecting package metadata (repodata.json): ...working... done\n",
      "Solving environment: ...working... failed with initial frozen solve. Retrying with flexible solve.\n"
     ]
    },
    {
     "name": "stderr",
     "output_type": "stream",
     "text": [
      "┌ Info: Installing pyqt package to avoid buggy tkagg backend.\n",
      "└ @ PyPlot /Users/sakurairihito/.julia/packages/PyPlot/XaELc/src/init.jl:118\n",
      "┌ Info: Installing PyQt5 via the Conda pyqt package...\n",
      "└ @ PyCall /Users/sakurairihito/.julia/packages/PyCall/L0fLP/src/PyCall.jl:711\n",
      "┌ Info: Running `conda install -y pyqt` in root environment\n",
      "└ @ Conda /Users/sakurairihito/.julia/packages/Conda/1403Y/src/Conda.jl:129\n",
      "\n",
      "PackagesNotFoundError: The following packages are not available from current channels:\n",
      "\n",
      "  - pyqt\n",
      "\n",
      "Current channels:\n",
      "\n",
      "  - https://conda.anaconda.org/conda-forge/osx-arm64\n",
      "  - https://conda.anaconda.org/conda-forge/noarch\n",
      "\n",
      "To search for alternate channels that may provide the conda package you're\n",
      "looking for, navigate to\n",
      "\n",
      "    https://anaconda.org\n",
      "\n",
      "and use the search bar at the top of the page.\n",
      "\n",
      "\n"
     ]
    },
    {
     "data": {
      "text/plain": [
       "PyObject <module 'numpy' from '/Users/sakurairihito/.julia/conda/3/lib/python3.9/site-packages/numpy/__init__.py'>"
      ]
     },
     "execution_count": 2,
     "metadata": {},
     "output_type": "execute_result"
    }
   ],
   "source": [
    "using PyPlot\n",
    "using PyCall\n",
    "numpy = pyimport(\"numpy\")\n",
    "#import Pkg; Pkg.add(\"Numpy\")"
   ]
  },
  {
   "cell_type": "code",
   "execution_count": 3,
   "id": "05224db5",
   "metadata": {},
   "outputs": [
    {
     "data": {
      "text/plain": [
       "\"\\\\usepackage{amsmath}\""
      ]
     },
     "execution_count": 3,
     "metadata": {},
     "output_type": "execute_result"
    }
   ],
   "source": [
    "rcParams = PyPlot.PyDict(PyPlot.matplotlib.\"rcParams\")\n",
    "rcParams[\"text.usetex\"] = true\n",
    "rcParams[\"font.family\"] = \"serif\"\n",
    "rcParams[\"font.size\"] = 16\n",
    "rcParams[\"text.latex.preamble\"] = raw\"\\usepackage{amsmath}\""
   ]
  },
  {
   "cell_type": "code",
   "execution_count": 4,
   "id": "cc1a9649",
   "metadata": {},
   "outputs": [
    {
     "name": "stderr",
     "output_type": "stream",
     "text": [
      "\u001b[32m\u001b[1m    Updating\u001b[22m\u001b[39m registry at `~/.julia/registries/General.toml`\n",
      "\u001b[32m\u001b[1m   Resolving\u001b[22m\u001b[39m package versions...\n",
      "\u001b[32m\u001b[1m  No Changes\u001b[22m\u001b[39m to `~/.julia/environments/v1.7/Project.toml`\n",
      "\u001b[32m\u001b[1m  No Changes\u001b[22m\u001b[39m to `~/.julia/environments/v1.7/Manifest.toml`\n",
      "\u001b[32m\u001b[1m   Resolving\u001b[22m\u001b[39m package versions...\n",
      "\u001b[32m\u001b[1m  No Changes\u001b[22m\u001b[39m to `~/.julia/environments/v1.7/Project.toml`\n",
      "\u001b[32m\u001b[1m  No Changes\u001b[22m\u001b[39m to `~/.julia/environments/v1.7/Manifest.toml`\n"
     ]
    }
   ],
   "source": [
    "import Pkg; Pkg.add(\"OMEinsum\")\n",
    "import Pkg; Pkg.add(\"SymEngine\")\n",
    "import SciPy\n",
    "using OMEinsum, SymEngine"
   ]
  },
  {
   "cell_type": "code",
   "execution_count": 5,
   "id": "27dc160a",
   "metadata": {},
   "outputs": [
    {
     "name": "stderr",
     "output_type": "stream",
     "text": [
      "\u001b[32m\u001b[1m   Resolving\u001b[22m\u001b[39m package versions...\n",
      "\u001b[32m\u001b[1m  No Changes\u001b[22m\u001b[39m to `~/.julia/environments/v1.7/Project.toml`\n",
      "\u001b[32m\u001b[1m  No Changes\u001b[22m\u001b[39m to `~/.julia/environments/v1.7/Manifest.toml`\n"
     ]
    }
   ],
   "source": [
    "import Pkg; Pkg.add(\"FastGaussQuadrature\")\n",
    "using FastGaussQuadrature"
   ]
  },
  {
   "cell_type": "code",
   "execution_count": 15,
   "id": "d2ab5edc-2b55-44f0-9e59-ba794db5483f",
   "metadata": {},
   "outputs": [
    {
     "name": "stdout",
     "output_type": "stream",
     "text": [
      "[4, 4]\n",
      "[0.0, 0.0]\n"
     ]
    }
   ],
   "source": [
    "function rho_omega(omega)\n",
    "    return (1/(2*pi)) * sqrt.(4 .- omega.^2)\n",
    "end\n",
    "\n",
    "#test ok\n",
    "a = [-2,2]\n",
    "println(a.^2)\n",
    "println(rho_omega(a))"
   ]
  },
  {
   "cell_type": "code",
   "execution_count": 121,
   "id": "d66a0c5c-a513-4f32-87f3-35e73543700c",
   "metadata": {},
   "outputs": [
    {
     "ename": "LoadError",
     "evalue": "type FiniteTempBasis has no field beta",
     "output_type": "error",
     "traceback": [
      "type FiniteTempBasis has no field beta",
      "",
      "Stacktrace:",
      " [1] getproperty(x::FiniteTempBasis, f::Symbol)",
      "   @ Base ./Base.jl:42",
      " [2] top-level scope",
      "   @ In[121]:14",
      " [3] eval",
      "   @ ./boot.jl:373 [inlined]",
      " [4] include_string(mapexpr::typeof(REPL.softscope), mod::Module, code::String, filename::String)",
      "   @ Base ./loading.jl:1196"
     ]
    }
   ],
   "source": [
    "using SparseIR\n",
    "D = 2.0\n",
    "temp = 0.1/D\n",
    "beta = 1 / temp\n",
    "wmax = 10.0 * D\n",
    "lambda = beta * wmax\n",
    "eps = 1e-9\n",
    "\n",
    "wmax = lambda / beta\n",
    "k = KernelFFlat(lambda)\n",
    "basis = FiniteTempBasis(k, fermion, beta, eps)\n",
    "L = basis.size\n",
    "\n",
    "basis.beta"
   ]
  },
  {
   "cell_type": "markdown",
   "id": "6dc1da15",
   "metadata": {},
   "source": [
    "スパースサンプリング"
   ]
  },
  {
   "cell_type": "code",
   "execution_count": 8,
   "id": "e23c1f92-eb61-412c-bb12-c8f85ef929a0",
   "metadata": {},
   "outputs": [
    {
     "name": "stderr",
     "output_type": "stream",
     "text": [
      "┌ Warning: `vendor()` is deprecated, use `BLAS.get_config()` and inspect the output instead\n",
      "│   caller = npyinitialize() at numpy.jl:67\n",
      "└ @ PyCall /Users/sakurairihito/.julia/packages/PyCall/L0fLP/src/numpy.jl:67\n"
     ]
    },
    {
     "data": {
      "text/plain": [
       "11.408397315310255"
      ]
     },
     "execution_count": 8,
     "metadata": {},
     "output_type": "execute_result"
    }
   ],
   "source": [
    "samp_taus = TauSampling(basis)\n",
    "n_taus = size(samp_taus.sampling_points) # (40,)\n",
    "#println(samp_taus.sampling_points)\n",
    "n_taus = n_taus[1]\n",
    "#println(\"# of sampling points in tau=\", n_taus)\n",
    "#  self.cond = self.matrix.s[0] / self.matrix.s[-1]\n",
    "condition_num = samp_taus.cond\n",
    "#println(\"cond taus=\", condition_num)"
   ]
  },
  {
   "cell_type": "markdown",
   "id": "90470068",
   "metadata": {},
   "source": [
    "松原周波数でのサンプリングポインt"
   ]
  },
  {
   "cell_type": "code",
   "execution_count": 9,
   "id": "2b569c47-99a8-4167-aac4-4de124b72e82",
   "metadata": {},
   "outputs": [
    {
     "name": "stdout",
     "output_type": "stream",
     "text": [
      "44\n"
     ]
    },
    {
     "data": {
      "text/plain": [
       "17.755472693820177"
      ]
     },
     "execution_count": 9,
     "metadata": {},
     "output_type": "execute_result"
    }
   ],
   "source": [
    "samp_matsu = MatsubaraSampling(basis)\n",
    "n_matsu = size(samp_matsu.sampling_points)[1]\n",
    "println(n_matsu)\n",
    "#println(samp_matsu.sampling_points)\n",
    "#n_matsu = n_matsu[1]\n",
    "#println(n_matsu)\n",
    "#println(n_matsu)\n",
    "condition_matsu = samp_matsu.cond\n",
    "#println(\"condition_matsu=\" , condition_matsu)\n",
    "\n"
   ]
  },
  {
   "cell_type": "code",
   "execution_count": 10,
   "id": "86b9c749",
   "metadata": {},
   "outputs": [
    {
     "name": "stdout",
     "output_type": "stream",
     "text": [
      "[0.5, 1.0]"
     ]
    }
   ],
   "source": [
    "function scale_quad(x::Vector{Float64}, w::Vector{Float64}, xmin::Float64, xmax::Float64)\n",
    "    \"\"\"\n",
    "    Scale weights and note of quadrature to the interval [xmin, xmax]\n",
    "    \"\"\"\n",
    "        @assert xmin < xmax\n",
    "        dx = xmax - xmin\n",
    "        w_ = 0.5 * dx * w\n",
    "        x_ = (0.5 * dx) * (x .+ 1) .+ xmin\n",
    "        return x_, w_\n",
    "end\n",
    "\n",
    "# test\n",
    "x = [0.0, 1.0]\n",
    "w = [0.0, 0.0]\n",
    "x_min = 0.0\n",
    "x_max = 1.0\n",
    "\n",
    "res, res2 = scale_quad(x, w, x_min, x_max)\n",
    "print(res)"
   ]
  },
  {
   "cell_type": "code",
   "execution_count": 106,
   "id": "db8c00bd",
   "metadata": {},
   "outputs": [
    {
     "data": {
      "text/plain": [
       "20.0"
      ]
     },
     "execution_count": 106,
     "metadata": {},
     "output_type": "execute_result"
    }
   ],
   "source": [
    "#Module iptsolver\n",
    "struct IPTSolver\n",
    "    U::Float64\n",
    "    basis\n",
    "    beta::Float64\n",
    "    rho::Function\n",
    "    quad_weight::Vector{Float64}\n",
    "    quad_omega::Vector{Float64}\n",
    "    samp_matsu\n",
    "    samp_tau\n",
    "\n",
    "    function IPTSolver(U::Float64, basis, rho::Function,\n",
    "        omega_min::Float64, omega_max::Float64, deg_leggaus::Int64=1000)\n",
    "        @assert omega_min < omega_max\n",
    "        \n",
    "        beta = 1 / temp\n",
    "        x_, w_ = gausslegendre(deg_leggaus)\n",
    "        quad_omega, quad_weight = scale_quad(x_, w_, omega_min, omega_max)\n",
    "        samp_matsu = MatsubaraSampling(basis)\n",
    "        samp_tau = TauSampling(basis)\n",
    "        new(\n",
    "            U,\n",
    "            basis,\n",
    "            beta,\n",
    "            rho,\n",
    "            quad_weight,\n",
    "            quad_omega,\n",
    "            samp_matsu,\n",
    "            samp_tau\n",
    "        )\n",
    "    end\n",
    "end\n",
    "\n",
    "#end\n",
    "\n",
    "U = 2.0\n",
    "typeof(rho_omega)\n",
    "solver.beta"
   ]
  },
  {
   "cell_type": "code",
   "execution_count": 112,
   "id": "b48fc933",
   "metadata": {},
   "outputs": [
    {
     "data": {
      "text/plain": [
       "make_gloc_iv (generic function with 1 method)"
      ]
     },
     "execution_count": 112,
     "metadata": {},
     "output_type": "execute_result"
    }
   ],
   "source": [
    "function make_gloc_iv(solver::IPTSolver, sigma_iv::Vector{Complex{Float64}})\n",
    "\n",
    "    \"\"\"\n",
    "    Compute G_loc(iv) from Sigma_iv\n",
    "    G_loc(iv) \\\\simeq \\\\sum_q w_q rho(x_q)/(iv - w_q - \\\\Sigma(iv))\n",
    "    \"\"\"\n",
    "\n",
    "    iv = 1im .* solver.samp_matsu.sampling_points .* π / solver.beta \n",
    "    #gloc_iv = Vector{Complex{64}}(undef, length(iv)) #undefは空っぽの配列（型は指定しない）\n",
    "    #for iq in 1:length(solver.quad_weight)\n",
    "    #end\n",
    "    newaxis = [CartesianIndex()]\n",
    "\n",
    "    #println(\"solver.quad_weight\", typeof(solver.quad_weight))\n",
    "    #println(\"solver.rho(solver.quad_weight)\", typeof(solver.rho(solver.quad_weight))) \n",
    "    r = ein\"q,q,wq->w\"(\n",
    "            solver.quad_weight,\n",
    "            solver.rho(solver.quad_omega),\n",
    "            1 ./ ((iv .- sigma_iv)[:, newaxis] .- solver.quad_omega[newaxis, :])\n",
    "        )\n",
    "    return r\n",
    "end"
   ]
  },
  {
   "cell_type": "code",
   "execution_count": 113,
   "id": "a44ad9d2",
   "metadata": {},
   "outputs": [
    {
     "data": {
      "text/plain": [
       "44-element Vector{ComplexF64}:\n",
       "    8.95445166827226e-21 + 0.007242165900471782im\n",
       "   4.369286741159433e-22 + 0.007605531039445112im\n",
       "  -3.165925954105526e-21 + 0.008007282450606576im\n",
       "   1.567064589913301e-20 + 0.018772726200149543im\n",
       "   7.380478948943469e-20 + 0.03164091653450508im\n",
       "  -5.836001559631694e-20 + 0.04636868650500979im\n",
       "  -3.221947714287089e-19 + 0.06278320680890101im\n",
       "   -7.35621438115605e-19 + 0.0842797091056929im\n",
       "   4.937121060829541e-19 + 0.10667381086318391im\n",
       "   4.776639233200245e-19 + 0.13874761525382404im\n",
       "  4.1233884404826705e-18 + 0.17624161645084063im\n",
       " -1.7099986338772908e-18 + 0.20985629372161085im\n",
       "  2.0789654412387128e-18 + 0.2583210005252233im\n",
       "                         ⋮\n",
       " -1.7099986338772908e-18 - 0.20985629372161085im\n",
       "  4.1233884404826705e-18 - 0.17624161645084063im\n",
       "   4.776639233200245e-19 - 0.13874761525382404im\n",
       "   4.937121060829541e-19 - 0.10667381086318391im\n",
       "   -7.35621438115605e-19 - 0.0842797091056929im\n",
       "  -3.221947714287089e-19 - 0.06278320680890101im\n",
       "  -5.836001559631694e-20 - 0.04636868650500979im\n",
       "   7.380478948943469e-20 - 0.03164091653450508im\n",
       "   1.567064589913301e-20 - 0.018772726200149543im\n",
       "  -3.165925954105526e-21 - 0.008007282450606576im\n",
       "   4.369286741159433e-22 - 0.007605531039445112im\n",
       "    8.95445166827226e-21 - 0.007242165900471782im"
      ]
     },
     "execution_count": 113,
     "metadata": {},
     "output_type": "execute_result"
    }
   ],
   "source": [
    "u = 1.0\n",
    "omega_min = -2.0\n",
    "omega_max = 2.0\n",
    "sigma_iv_ = make_sigma_ini(solver)\n",
    "gloc_iv = make_gloc_iv(solver, sigma_iv_)\n",
    "# normalize_factor(u, basis, rho_omega, omega_min, omega_max,sigma_iv_)\n",
    "# normalize_factor"
   ]
  },
  {
   "cell_type": "markdown",
   "id": "d7ee3b92",
   "metadata": {},
   "source": [
    "    # r = numpy.einsum(\"q,q,wq->w\",\n",
    "    #         solver.quad_weight,\n",
    "    #         solver.rho(solver.quad_omega),\n",
    "    #         1/((iv .- sigma_iv)[:, newaxis] .- solver.quad_omega[newaxis, :]),\n",
    "    #         optimize = True\n",
    "    #     )"
   ]
  },
  {
   "cell_type": "markdown",
   "id": "42376b10",
   "metadata": {},
   "source": [
    "r = ein\"q,q,wq->w\"(\n",
    "            solver.quad_weight,\n",
    "            solver.rho(solver.quad_weight),\n",
    "            1/((iv-sigma_iv)[:,:] .- solver.quad_omega[:,:])\n",
    "        )\n",
    "    return r"
   ]
  },
  {
   "cell_type": "code",
   "execution_count": 98,
   "id": "476cc0f2",
   "metadata": {},
   "outputs": [
    {
     "name": "stdout",
     "output_type": "stream",
     "text": [
      "rho(solver.quad_weight)(1000,)\n",
      "solver.quad_omega=Vector{Float64}\n",
      "solver.quad_omega=Matrix{Float64}\n",
      "solver.quad_omega=(1000, 1)\n"
     ]
    },
    {
     "data": {
      "text/plain": [
       "44-element Vector{ComplexF64}:\n",
       "    8.95445166827226e-21 + 0.007242165900471782im\n",
       "   4.369286741159433e-22 + 0.007605531039445112im\n",
       "  -3.165925954105526e-21 + 0.008007282450606576im\n",
       "   1.567064589913301e-20 + 0.018772726200149543im\n",
       "   7.380478948943469e-20 + 0.03164091653450508im\n",
       "  -5.836001559631694e-20 + 0.04636868650500979im\n",
       "  -3.221947714287089e-19 + 0.06278320680890101im\n",
       "   -7.35621438115605e-19 + 0.0842797091056929im\n",
       "   4.937121060829541e-19 + 0.10667381086318391im\n",
       "   4.776639233200245e-19 + 0.13874761525382404im\n",
       "  4.1233884404826705e-18 + 0.17624161645084063im\n",
       " -1.7099986338772908e-18 + 0.20985629372161085im\n",
       "  2.0789654412387128e-18 + 0.2583210005252233im\n",
       "                         ⋮\n",
       " -1.7099986338772908e-18 - 0.20985629372161085im\n",
       "  4.1233884404826705e-18 - 0.17624161645084063im\n",
       "   4.776639233200245e-19 - 0.13874761525382404im\n",
       "   4.937121060829541e-19 - 0.10667381086318391im\n",
       "   -7.35621438115605e-19 - 0.0842797091056929im\n",
       "  -3.221947714287089e-19 - 0.06278320680890101im\n",
       "  -5.836001559631694e-20 - 0.04636868650500979im\n",
       "   7.380478948943469e-20 - 0.03164091653450508im\n",
       "   1.567064589913301e-20 - 0.018772726200149543im\n",
       "  -3.165925954105526e-21 - 0.008007282450606576im\n",
       "   4.369286741159433e-22 - 0.007605531039445112im\n",
       "    8.95445166827226e-21 - 0.007242165900471782im"
      ]
     },
     "execution_count": 98,
     "metadata": {},
     "output_type": "execute_result"
    }
   ],
   "source": [
    "U = 2.0\n",
    "#typeof(rho_omega)\n",
    "solver = IPTSolver(U, basis, rho_omega, -2.0, 2.0)\n",
    "#println(\"solver.quad_weight\",solver.quad_weight)\n",
    "println(\"rho(solver.quad_weight)\", size(rho_omega(solver.quad_weight)))\n",
    "println(\"solver.quad_omega=\", typeof(solver.quad_omega))\n",
    "println(\"solver.quad_omega=\", typeof(solver.quad_omega[:,:]))\n",
    "println(\"solver.quad_omega=\", size(solver.quad_omega[:,:]))\n",
    "#sigma_iv_ = make_sigma_ini(solver)\n",
    "#new_sigma_iv = new_sigma_iv(solver, sigma_iv_)\n",
    "\n",
    "iv = 1im * solver.samp_matsu.sampling_points * π/solver.beta \n",
    "\n",
    "\n",
    "\n"
   ]
  },
  {
   "cell_type": "code",
   "execution_count": 115,
   "id": "d469b878",
   "metadata": {},
   "outputs": [
    {
     "data": {
      "text/plain": [
       "g0_iv (generic function with 2 methods)"
      ]
     },
     "execution_count": 115,
     "metadata": {},
     "output_type": "execute_result"
    }
   ],
   "source": [
    "function g0_iv(gloc, sigma_iv::Vector{Complex{Float64}}) # sigma_ivは適当な初期値が入る（）\n",
    "    return 1 ./ (1 ./gloc .+ sigma_iv)\n",
    "end"
   ]
  },
  {
   "cell_type": "code",
   "execution_count": 118,
   "id": "3054c8cf",
   "metadata": {},
   "outputs": [],
   "source": [
    "\n",
    "a = g0_iv(gloc_iv,sigma_iv_);"
   ]
  },
  {
   "cell_type": "code",
   "execution_count": 100,
   "id": "bff67cf4",
   "metadata": {},
   "outputs": [
    {
     "data": {
      "text/plain": [
       "sigma_iv (generic function with 1 method)"
      ]
     },
     "execution_count": 100,
     "metadata": {},
     "output_type": "execute_result"
    }
   ],
   "source": [
    "function sigma_iv(solver::IPTSolver, g0_iv) #g0_ivは上で定義した関数の値が入る\n",
    "    \"\"\"\n",
    "    Compute Sigma(tau) from \\\\mathcal{G}(iv)\n",
    "    \"\"\"\n",
    "    g0_IR = solver.samp_matsu.fit(g0_iv, axis=1)\n",
    "    g0_tau = solver.samp_tau.evaluate(g0_IR)\n",
    "    sigma_tau = (solver.U)^2 .* (g0_tau).^2 .* g0_tau[end:-1:1]\n",
    "    sigma_IR = solver.samp_tau.fit(sigma_tau)\n",
    "    return solver.samp_matsu.evaluate(sigma_IR, axis=1)\n",
    "end"
   ]
  },
  {
   "cell_type": "code",
   "execution_count": 120,
   "id": "b37f2748",
   "metadata": {},
   "outputs": [
    {
     "ename": "LoadError",
     "evalue": "type MatsubaraSampling has no field fit",
     "output_type": "error",
     "traceback": [
      "type MatsubaraSampling has no field fit",
      "",
      "Stacktrace:",
      " [1] getproperty(x::MatsubaraSampling, f::Symbol)",
      "   @ Base ./Base.jl:42",
      " [2] sigma_iv(solver::IPTSolver, g0_iv::Vector{ComplexF64})",
      "   @ Main ./In[100]:5",
      " [3] top-level scope",
      "   @ In[120]:1",
      " [4] eval",
      "   @ ./boot.jl:373 [inlined]",
      " [5] include_string(mapexpr::typeof(REPL.softscope), mod::Module, code::String, filename::String)",
      "   @ Base ./loading.jl:1196"
     ]
    }
   ],
   "source": [
    "sigma_iv(solver, a)"
   ]
  },
  {
   "cell_type": "markdown",
   "id": "fe586535",
   "metadata": {},
   "source": []
  },
  {
   "cell_type": "code",
   "execution_count": 101,
   "id": "42b1fa84",
   "metadata": {},
   "outputs": [
    {
     "data": {
      "text/plain": [
       "new_sigma_iv (generic function with 1 method)"
      ]
     },
     "execution_count": 101,
     "metadata": {},
     "output_type": "execute_result"
    }
   ],
   "source": [
    "function new_sigma_iv(solver::IPTSolver, sigma_iv)\n",
    "    gloc_iv = make_gloc_iv(solver, sigma_iv)\n",
    "    g0_iv = g0_iv(gloc_iv, sigma_iv)\n",
    "    r = sigma_iv(solver, g0_iv)\n",
    "    return r\n",
    "end\n"
   ]
  },
  {
   "cell_type": "code",
   "execution_count": 102,
   "id": "b3dc261e",
   "metadata": {},
   "outputs": [
    {
     "data": {
      "text/plain": [
       "make_sigma_ini (generic function with 1 method)"
      ]
     },
     "execution_count": 102,
     "metadata": {},
     "output_type": "execute_result"
    }
   ],
   "source": [
    "sigma_ini = Vector{Complex{Float64}}\n",
    "sigma_ini = zeros(ComplexF64, )\n",
    "#n_matsu = size(samp_matsu.sampling_points)[1]\n",
    "\n",
    "function make_sigma_ini(solver::IPTSolver)\n",
    "    samp_matsu = solver.samp_matsu\n",
    "    n_matsu = size(samp_matsu.sampling_points)[1]\n",
    "    return zeros(ComplexF64, n_matsu)\n",
    "end"
   ]
  },
  {
   "cell_type": "code",
   "execution_count": 103,
   "id": "45dc9903",
   "metadata": {},
   "outputs": [],
   "source": [
    "#sigma_ini = make_sigma_ini(solver);\n"
   ]
  },
  {
   "cell_type": "code",
   "execution_count": 104,
   "id": "b149dd05",
   "metadata": {},
   "outputs": [
    {
     "data": {
      "text/plain": [
       "normalize_factor (generic function with 1 method)"
      ]
     },
     "execution_count": 104,
     "metadata": {},
     "output_type": "execute_result"
    }
   ],
   "source": [
    "niter = 10000\n",
    "mixing = 0.1\n",
    "\n",
    "U = 2.0 .* [range(0.001/D, 6.5/D , length=8);] \n",
    "\n",
    "#solver = IPTSolver(u, basis, rho_omega, omega_min, omega_max)\n",
    "\n",
    "\n",
    "function normalize_factor(u, basis, rho_omega, omega_min::Float64, omega_max::Float64, sigma_iv::Vector{Complex{Float64}})\n",
    "    solver = IPTSolver(u, basis, rho_omega, omega_min, omega_max)\n",
    "\n",
    "    #if sigma_ini == \"None\"\n",
    "    #   sigma_ini = [0] #sigma_iv::Vector{Complex{Float64}})\n",
    "    #end\n",
    "    #sigma_ini = Vector\n",
    "    #sigma_iv = copy(sigma_iv)\n",
    "\n",
    "    new_sigma_iv = make_sigma_ini(solver)\n",
    "\n",
    "    for iter in range(1,10)\n",
    "        new_sigma_iv[1] = new_sigma_iv(solver, sigma_iv)[1]\n",
    "        rerr = findmax(abs.(new_sigma_iv - sigma_iv))[1]/findmax(abs.(sigma_iv))[1]\n",
    "        if rerr < 1e-5\n",
    "            break\n",
    "        end\n",
    "        sigma_iv = mixing * new_sigma_iv .+ (1 - mixing) * sigma_iv\n",
    "    end\n",
    "\n",
    "    center = length(sigma_iv)÷2 \n",
    "    z = 1/(1-(imag.(sigma_iv)[center]-imag(sigma_iv)[center-1])/(solver.samp_matsu.sampling_points[center]-solver.samp_matsu.sampling_points[center-1]))\n",
    "\n",
    "    return z, sigma_iv\n",
    "end"
   ]
  },
  {
   "cell_type": "code",
   "execution_count": 105,
   "id": "153ba007",
   "metadata": {},
   "outputs": [
    {
     "ename": "LoadError",
     "evalue": "MethodError: no method matching /(::Int64, ::Matrix{ComplexF64})\n\u001b[0mClosest candidates are:\n\u001b[0m  /(::Any, \u001b[91m::ChainRulesCore.AbstractThunk\u001b[39m) at ~/.julia/packages/ChainRulesCore/uxrij/src/tangent_types/thunks.jl:35\n\u001b[0m  /(::Union{Int128, Int16, Int32, Int64, Int8, UInt128, UInt16, UInt32, UInt64, UInt8}, \u001b[91m::Union{Int128, Int16, Int32, Int64, Int8, UInt128, UInt16, UInt32, UInt64, UInt8}\u001b[39m) at /Applications/Julia-1.7.app/Contents/Resources/julia/share/julia/base/int.jl:93\n\u001b[0m  /(::Union{Integer, Complex{<:Union{Integer, Rational}}}, \u001b[91m::Rational\u001b[39m) at /Applications/Julia-1.7.app/Contents/Resources/julia/share/julia/base/rational.jl:345\n\u001b[0m  ...",
     "output_type": "error",
     "traceback": [
      "MethodError: no method matching /(::Int64, ::Matrix{ComplexF64})\n\u001b[0mClosest candidates are:\n\u001b[0m  /(::Any, \u001b[91m::ChainRulesCore.AbstractThunk\u001b[39m) at ~/.julia/packages/ChainRulesCore/uxrij/src/tangent_types/thunks.jl:35\n\u001b[0m  /(::Union{Int128, Int16, Int32, Int64, Int8, UInt128, UInt16, UInt32, UInt64, UInt8}, \u001b[91m::Union{Int128, Int16, Int32, Int64, Int8, UInt128, UInt16, UInt32, UInt64, UInt8}\u001b[39m) at /Applications/Julia-1.7.app/Contents/Resources/julia/share/julia/base/int.jl:93\n\u001b[0m  /(::Union{Integer, Complex{<:Union{Integer, Rational}}}, \u001b[91m::Rational\u001b[39m) at /Applications/Julia-1.7.app/Contents/Resources/julia/share/julia/base/rational.jl:345\n\u001b[0m  ...",
      "",
      "Stacktrace:",
      " [1] make_gloc_iv(solver::IPTSolver, sigma_iv::Vector{ComplexF64})",
      "   @ Main ./In[96]:16",
      " [2] new_sigma_iv(solver::IPTSolver, sigma_iv::Vector{ComplexF64})",
      "   @ Main ./In[101]:2",
      " [3] top-level scope",
      "   @ In[105]:5",
      " [4] eval",
      "   @ ./boot.jl:373 [inlined]",
      " [5] include_string(mapexpr::typeof(REPL.softscope), mod::Module, code::String, filename::String)",
      "   @ Base ./loading.jl:1196"
     ]
    }
   ],
   "source": []
  },
  {
   "cell_type": "code",
   "execution_count": null,
   "id": "3fd8bed8",
   "metadata": {},
   "outputs": [
    {
     "ename": "ErrorException",
     "evalue": "syntax: line break in \":\" expression",
     "output_type": "error",
     "traceback": [
      "syntax: line break in \":\" expression\n",
      "\n",
      "Stacktrace:\n",
      "  [1] top-level scope\n",
      "    @ ~/Documents/lecture/dmft_julia/dmft.ipynb:4\n",
      "  [2] eval\n",
      "    @ ./boot.jl:373 [inlined]\n",
      "  [3] include_string(mapexpr::typeof(REPL.softscope), mod::Module, code::String, filename::String)\n",
      "    @ Base ./loading.jl:1196\n",
      "  [4] #invokelatest#2\n",
      "    @ ./essentials.jl:716 [inlined]\n",
      "  [5] invokelatest\n",
      "    @ ./essentials.jl:714 [inlined]\n",
      "  [6] (::VSCodeServer.var\"#150#151\"{VSCodeServer.NotebookRunCellArguments, String})()\n",
      "    @ VSCodeServer ~/.vscode/extensions/julialang.language-julia-1.5.11/scripts/packages/VSCodeServer/src/serve_notebook.jl:18\n",
      "  [7] withpath(f::VSCodeServer.var\"#150#151\"{VSCodeServer.NotebookRunCellArguments, String}, path::String)\n",
      "    @ VSCodeServer ~/.vscode/extensions/julialang.language-julia-1.5.11/scripts/packages/VSCodeServer/src/repl.jl:185\n",
      "  [8] notebook_runcell_request(conn::VSCodeServer.JSONRPC.JSONRPCEndpoint{Base.PipeEndpoint, Base.PipeEndpoint}, params::VSCodeServer.NotebookRunCellArguments)\n",
      "    @ VSCodeServer ~/.vscode/extensions/julialang.language-julia-1.5.11/scripts/packages/VSCodeServer/src/serve_notebook.jl:14\n",
      "  [9] dispatch_msg(x::VSCodeServer.JSONRPC.JSONRPCEndpoint{Base.PipeEndpoint, Base.PipeEndpoint}, dispatcher::VSCodeServer.JSONRPC.MsgDispatcher, msg::Dict{String, Any})\n",
      "    @ VSCodeServer.JSONRPC ~/.vscode/extensions/julialang.language-julia-1.5.11/scripts/packages/JSONRPC/src/typed.jl:67\n",
      " [10] serve_notebook(pipename::String; crashreporting_pipename::String)\n",
      "    @ VSCodeServer ~/.vscode/extensions/julialang.language-julia-1.5.11/scripts/packages/VSCodeServer/src/serve_notebook.jl:94\n",
      " [11] top-level scope\n",
      "    @ ~/.vscode/extensions/julialang.language-julia-1.5.11/scripts/notebook/notebook.jl:12\n",
      " [12] include(mod::Module, _path::String)\n",
      "    @ Base ./Base.jl:418\n",
      " [13] exec_options(opts::Base.JLOptions)\n",
      "    @ Base ./client.jl:292\n",
      " [14] _start()\n",
      "    @ Base ./client.jl:495"
     ]
    }
   ],
   "source": [
    "Z = []\n",
    "Simga_U = []\n",
    "for u in U:\n",
    "    zz, s_u = normalize_factor(u, basis, rho_omega, omega_min, omega_max,sigma_iv)"
   ]
  },
  {
   "cell_type": "code",
   "execution_count": 95,
   "metadata": {},
   "outputs": [
    {
     "name": "stdout",
     "output_type": "stream",
     "text": [
      "solver.quad_weightVector{Float64}\n",
      "solver.rho(solver.quad_weight)Vector{Float64}\n"
     ]
    },
    {
     "data": {
      "text/plain": [
       "0"
      ]
     },
     "metadata": {},
     "output_type": "display_data"
    }
   ],
   "source": [
    "length(sigma_ini)\n",
    "length(sigma_ini)÷2"
   ]
  },
  {
   "cell_type": "code",
   "execution_count": 96,
   "id": "c68cde34",
   "metadata": {},
   "outputs": [],
   "source": []
  },
  {
   "cell_type": "code",
   "execution_count": 97,
   "id": "c7a756bc",
   "metadata": {},
   "outputs": [],
   "source": []
  },
  {
   "cell_type": "code",
   "execution_count": 98,
   "id": "f20309d4",
   "metadata": {},
   "outputs": [],
   "source": []
  },
  {
   "cell_type": "code",
   "execution_count": 99,
   "id": "86c308da",
   "metadata": {},
   "outputs": [],
   "source": []
  },
  {
   "cell_type": "code",
   "execution_count": 100,
   "id": "77ac1a33",
   "metadata": {},
   "outputs": [],
   "source": []
  },
  {
   "cell_type": "code",
   "execution_count": 101,
   "id": "dbb51f6e",
   "metadata": {},
   "outputs": [],
   "source": []
  },
  {
   "cell_type": "markdown",
   "id": "8bd72a7b",
   "metadata": {},
   "source": [
    "プレイグランド"
   ]
  },
  {
   "cell_type": "code",
   "execution_count": 102,
   "id": "3afde47c",
   "metadata": {},
   "outputs": [
    {
     "ename": "MethodError",
     "evalue": "MethodError: no method matching gausslegendre(; deg_leggaus=1000)\nClosest candidates are:\n  gausslegendre(!Matched::Integer) at ~/.julia/packages/FastGaussQuadrature/BRLTf/src/gausslegendre.jl:22 got unsupported keyword argument \"deg_leggaus\"",
     "output_type": "error",
     "traceback": [
      "MethodError: no method matching gausslegendre(; deg_leggaus=1000)\n",
      "Closest candidates are:\n",
      "  gausslegendre(!Matched::Integer) at ~/.julia/packages/FastGaussQuadrature/BRLTf/src/gausslegendre.jl:22 got unsupported keyword argument \"deg_leggaus\"\n",
      "\n",
      "Stacktrace:\n",
      "  [1] top-level scope\n",
      "    @ ~/Documents/lecture/dmft_julia/dmft.ipynb:1\n",
      "  [2] eval\n",
      "    @ ./boot.jl:373 [inlined]\n",
      "  [3] include_string(mapexpr::typeof(REPL.softscope), mod::Module, code::String, filename::String)\n",
      "    @ Base ./loading.jl:1196\n",
      "  [4] #invokelatest#2\n",
      "    @ ./essentials.jl:716 [inlined]\n",
      "  [5] invokelatest\n",
      "    @ ./essentials.jl:714 [inlined]\n",
      "  [6] (::VSCodeServer.var\"#150#151\"{VSCodeServer.NotebookRunCellArguments, String})()\n",
      "    @ VSCodeServer ~/.vscode/extensions/julialang.language-julia-1.5.11/scripts/packages/VSCodeServer/src/serve_notebook.jl:18\n",
      "  [7] withpath(f::VSCodeServer.var\"#150#151\"{VSCodeServer.NotebookRunCellArguments, String}, path::String)\n",
      "    @ VSCodeServer ~/.vscode/extensions/julialang.language-julia-1.5.11/scripts/packages/VSCodeServer/src/repl.jl:185\n",
      "  [8] notebook_runcell_request(conn::VSCodeServer.JSONRPC.JSONRPCEndpoint{Base.PipeEndpoint, Base.PipeEndpoint}, params::VSCodeServer.NotebookRunCellArguments)\n",
      "    @ VSCodeServer ~/.vscode/extensions/julialang.language-julia-1.5.11/scripts/packages/VSCodeServer/src/serve_notebook.jl:14\n",
      "  [9] dispatch_msg(x::VSCodeServer.JSONRPC.JSONRPCEndpoint{Base.PipeEndpoint, Base.PipeEndpoint}, dispatcher::VSCodeServer.JSONRPC.MsgDispatcher, msg::Dict{String, Any})\n",
      "    @ VSCodeServer.JSONRPC ~/.vscode/extensions/julialang.language-julia-1.5.11/scripts/packages/JSONRPC/src/typed.jl:67\n",
      " [10] serve_notebook(pipename::String; crashreporting_pipename::String)\n",
      "    @ VSCodeServer ~/.vscode/extensions/julialang.language-julia-1.5.11/scripts/packages/VSCodeServer/src/serve_notebook.jl:94\n",
      " [11] top-level scope\n",
      "    @ ~/.vscode/extensions/julialang.language-julia-1.5.11/scripts/notebook/notebook.jl:12\n",
      " [12] include(mod::Module, _path::String)\n",
      "    @ Base ./Base.jl:418\n",
      " [13] exec_options(opts::Base.JLOptions)\n",
      "    @ Base ./client.jl:292\n",
      " [14] _start()\n",
      "    @ Base ./client.jl:495"
     ]
    }
   ],
   "source": [
    "x_, w_ = gausslegendre(deg_leggaus=1000)\n",
    "quad_omega, quad_weight = scale_quad(x_, w_, omega_min, omega_max)"
   ]
  },
  {
   "cell_type": "markdown",
   "id": "28d01860",
   "metadata": {},
   "source": [
    "using FastGaussQuadrature,SpecialPolynomials"
   ]
  },
  {
   "cell_type": "code",
   "execution_count": 103,
   "id": "6c6d6c85",
   "metadata": {},
   "outputs": [
    {
     "name": "stderr",
     "output_type": "stream",
     "text": [
      "\u001b[32m\u001b[1m   Resolving\u001b[22m\u001b[39m package versions...\n",
      "\u001b[32m\u001b[1m  No Changes\u001b[22m\u001b[39m to `~/.julia/environments/v1.7/Project.toml`\n",
      "\u001b[32m\u001b[1m  No Changes\u001b[22m\u001b[39m to `~/.julia/environments/v1.7/Manifest.toml`\n"
     ]
    }
   ],
   "source": [
    "Pkg.add(\"SpecialPolynomials\")\n",
    "using FastGaussQuadrature,SpecialPolynomials"
   ]
  },
  {
   "cell_type": "code",
   "execution_count": 104,
   "id": "a2f92f73",
   "metadata": {},
   "outputs": [
    {
     "data": {
      "text/plain": [
       "([-0.7745966692414834, 0.0, 0.7745966692414834], [0.5555555555555556, 0.8888888888888888, 0.5555555555555556])"
      ]
     },
     "metadata": {},
     "output_type": "display_data"
    }
   ],
   "source": [
    "# ガウスの積分公式を使っている。不定積分を解析的に求めるのではなく、有限な数のサンプル点における値を利用する。\n",
    "# http://nkl.cc.u-tokyo.ac.jp/12e/02-FEM/GaussLegendre.pdf\n",
    "x, w = gausslegendre(3)"
   ]
  },
  {
   "cell_type": "code",
   "execution_count": 105,
   "id": "d431544e",
   "metadata": {},
   "outputs": [
    {
     "name": "stdout",
     "output_type": "stream",
     "text": [
      "0.4000000000000001\n"
     ]
    }
   ],
   "source": [
    "using LinearAlgebra\n",
    "myfunc(x) = x^4\n",
    "I = dot(w,myfunc.(x))\n",
    "print(\"x\",x)\n",
    "print\n",
    "println(I)\n",
    "@assert I ≈ 2/5\n"
   ]
  },
  {
   "cell_type": "code",
   "execution_count": 106,
   "id": "f627f3c1",
   "metadata": {},
   "outputs": [],
   "source": [
    "p3 = SpecialPolynomials.basis(Legendre, 3)\n",
    "x2 = collect(range(-1,1,length=1000))\n",
    "\n",
    "plt.figure()\n",
    "plt.plot(x2,p3.(x2),label=\"P_3\")\n",
    "plt.plot(x,[0,0,0],marker=\"o\")\n",
    "plt.xlabel(\"x\")\n",
    "plt.ylabel(\"3rd basis of Legendre polynomials\")\n",
    "plt.savefig(\"check_gaussquad.pdf\")"
   ]
  },
  {
   "cell_type": "code",
   "execution_count": 107,
   "id": "0b395a31",
   "metadata": {},
   "outputs": [
    {
     "data": {
      "text/plain": [
       "1000-element Vector{Float64}:\n",
       " -1.0\n",
       " -0.997997997997998\n",
       " -0.995995995995996\n",
       " -0.993993993993994\n",
       " -0.991991991991992\n",
       " -0.98998998998999\n",
       " -0.987987987987988\n",
       " -0.985985985985986\n",
       " -0.983983983983984\n",
       " -0.9819819819819819\n",
       "  ⋮\n",
       "  0.983983983983984\n",
       "  0.985985985985986\n",
       "  0.987987987987988\n",
       "  0.98998998998999\n",
       "  0.991991991991992\n",
       "  0.993993993993994\n",
       "  0.995995995995996\n",
       "  0.997997997997998\n",
       "  1.0"
      ]
     },
     "metadata": {},
     "output_type": "display_data"
    }
   ],
   "source": [
    "x2 = collect(range(-1,1,length=1000))"
   ]
  },
  {
   "cell_type": "code",
   "execution_count": 108,
   "id": "33c4e3d8",
   "metadata": {},
   "outputs": [
    {
     "data": {
      "text/plain": [
       "-1.0:0.002002002002002002:1.0"
      ]
     },
     "metadata": {},
     "output_type": "display_data"
    }
   ],
   "source": [
    "range(-1,1,length=1000)"
   ]
  },
  {
   "cell_type": "markdown",
   "id": "754e44a9",
   "metadata": {},
   "source": []
  },
  {
   "cell_type": "code",
   "execution_count": 109,
   "id": "6508ca35",
   "metadata": {},
   "outputs": [
    {
     "data": {
      "text/plain": [
       "2×2 Matrix{Float64}:\n",
       " 0.284444  0.389023\n",
       " 0.381043  0.223978"
      ]
     },
     "metadata": {},
     "output_type": "display_data"
    }
   ],
   "source": [
    "A = rand(Float64, 2, 2)"
   ]
  },
  {
   "cell_type": "code",
   "execution_count": 110,
   "id": "b7cd92f9",
   "metadata": {},
   "outputs": [],
   "source": []
  },
  {
   "cell_type": "code",
   "execution_count": 111,
   "id": "b767bbae",
   "metadata": {},
   "outputs": [
    {
     "data": {
      "text/plain": [
       "2×2 Matrix{Float64}:\n",
       " 0.381043  0.223978\n",
       " 0.284444  0.389023"
      ]
     },
     "metadata": {},
     "output_type": "display_data"
    }
   ],
   "source": [
    "A[end:-1:1, :]"
   ]
  },
  {
   "cell_type": "code",
   "execution_count": 112,
   "id": "7fe04413",
   "metadata": {},
   "outputs": [
    {
     "data": {
      "text/plain": [
       "2×2 Matrix{Float64}:\n",
       " 0.284444  0.389023\n",
       " 0.381043  0.223978"
      ]
     },
     "metadata": {},
     "output_type": "display_data"
    }
   ],
   "source": [
    "A[1:2, :]"
   ]
  },
  {
   "cell_type": "code",
   "execution_count": 113,
   "id": "7bbaa28e",
   "metadata": {},
   "outputs": [
    {
     "data": {
      "text/plain": [
       "2×2×1 Array{Float64, 3}:\n",
       "[:, :, 1] =\n",
       " 0.381043  0.223978\n",
       " 0.284444  0.389023"
      ]
     },
     "metadata": {},
     "output_type": "display_data"
    }
   ],
   "source": [
    "A[end:-1:1, :, :]"
   ]
  },
  {
   "cell_type": "code",
   "execution_count": 114,
   "id": "d9190c89",
   "metadata": {},
   "outputs": [
    {
     "data": {
      "text/plain": [
       "3×3 Matrix{Float64}:\n",
       " 0.838049  0.249068  0.970057\n",
       " 0.637646  0.366873  0.908885\n",
       " 0.798598  0.96509   0.843229"
      ]
     },
     "metadata": {},
     "output_type": "display_data"
    }
   ],
   "source": [
    "B = rand(Float64, 3, 3)\n",
    "#println(B)"
   ]
  },
  {
   "cell_type": "code",
   "execution_count": 115,
   "id": "2e97e665",
   "metadata": {},
   "outputs": [
    {
     "data": {
      "text/plain": [
       "3×3 Matrix{Float64}:\n",
       " 0.970057  0.249068  0.838049\n",
       " 0.908885  0.366873  0.637646\n",
       " 0.843229  0.96509   0.798598"
      ]
     },
     "metadata": {},
     "output_type": "display_data"
    }
   ],
   "source": [
    "# 列を交換した。全ての列に関して逆順にした。\n",
    "B[:, end:-1:1]"
   ]
  },
  {
   "cell_type": "code",
   "execution_count": 116,
   "id": "e7c53b5d",
   "metadata": {},
   "outputs": [
    {
     "data": {
      "text/plain": [
       "3×3 Matrix{Float64}:\n",
       " 0.798598  0.96509   0.843229\n",
       " 0.637646  0.366873  0.908885\n",
       " 0.838049  0.249068  0.970057"
      ]
     },
     "metadata": {},
     "output_type": "display_data"
    }
   ],
   "source": [
    "B[end:-1:1, :]"
   ]
  },
  {
   "cell_type": "code",
   "execution_count": 117,
   "id": "64ff9f4c",
   "metadata": {},
   "outputs": [
    {
     "data": {
      "text/plain": [
       "4×4 Matrix{Float64}:\n",
       " 0.288775  0.193691  0.482939  0.0434422\n",
       " 0.676368  0.530307  0.383387  0.611905\n",
       " 0.688957  0.230515  0.680132  0.309188\n",
       " 0.385985  0.747789  0.631511  0.44173"
      ]
     },
     "metadata": {},
     "output_type": "display_data"
    }
   ],
   "source": [
    "C = rand(Float64, 4, 4)"
   ]
  },
  {
   "cell_type": "code",
   "execution_count": 118,
   "id": "d402d429",
   "metadata": {},
   "outputs": [
    {
     "data": {
      "text/plain": [
       "4×4 Matrix{Float64}:\n",
       " 0.385985  0.747789  0.631511  0.44173\n",
       " 0.688957  0.230515  0.680132  0.309188\n",
       " 0.676368  0.530307  0.383387  0.611905\n",
       " 0.288775  0.193691  0.482939  0.0434422"
      ]
     },
     "metadata": {},
     "output_type": "display_data"
    }
   ],
   "source": [
    "C[end:-1:1, :]"
   ]
  },
  {
   "cell_type": "code",
   "execution_count": 119,
   "id": "bca304da",
   "metadata": {},
   "outputs": [
    {
     "ename": "UndefVarError",
     "evalue": "UndefVarError: None not defined",
     "output_type": "error",
     "traceback": [
      "UndefVarError: None not defined\n",
      "\n",
      "Stacktrace:\n",
      "  [1] top-level scope\n",
      "    @ ~/Documents/lecture/dmft_julia/dmft.ipynb:1\n",
      "  [2] eval\n",
      "    @ ./boot.jl:373 [inlined]\n",
      "  [3] include_string(mapexpr::typeof(REPL.softscope), mod::Module, code::String, filename::String)\n",
      "    @ Base ./loading.jl:1196\n",
      "  [4] #invokelatest#2\n",
      "    @ ./essentials.jl:716 [inlined]\n",
      "  [5] invokelatest\n",
      "    @ ./essentials.jl:714 [inlined]\n",
      "  [6] (::VSCodeServer.var\"#150#151\"{VSCodeServer.NotebookRunCellArguments, String})()\n",
      "    @ VSCodeServer ~/.vscode/extensions/julialang.language-julia-1.5.11/scripts/packages/VSCodeServer/src/serve_notebook.jl:18\n",
      "  [7] withpath(f::VSCodeServer.var\"#150#151\"{VSCodeServer.NotebookRunCellArguments, String}, path::String)\n",
      "    @ VSCodeServer ~/.vscode/extensions/julialang.language-julia-1.5.11/scripts/packages/VSCodeServer/src/repl.jl:185\n",
      "  [8] notebook_runcell_request(conn::VSCodeServer.JSONRPC.JSONRPCEndpoint{Base.PipeEndpoint, Base.PipeEndpoint}, params::VSCodeServer.NotebookRunCellArguments)\n",
      "    @ VSCodeServer ~/.vscode/extensions/julialang.language-julia-1.5.11/scripts/packages/VSCodeServer/src/serve_notebook.jl:14\n",
      "  [9] dispatch_msg(x::VSCodeServer.JSONRPC.JSONRPCEndpoint{Base.PipeEndpoint, Base.PipeEndpoint}, dispatcher::VSCodeServer.JSONRPC.MsgDispatcher, msg::Dict{String, Any})\n",
      "    @ VSCodeServer.JSONRPC ~/.vscode/extensions/julialang.language-julia-1.5.11/scripts/packages/JSONRPC/src/typed.jl:67\n",
      " [10] serve_notebook(pipename::String; crashreporting_pipename::String)\n",
      "    @ VSCodeServer ~/.vscode/extensions/julialang.language-julia-1.5.11/scripts/packages/VSCodeServer/src/serve_notebook.jl:94\n",
      " [11] top-level scope\n",
      "    @ ~/.vscode/extensions/julialang.language-julia-1.5.11/scripts/notebook/notebook.jl:12\n",
      " [12] include(mod::Module, _path::String)\n",
      "    @ Base ./Base.jl:418\n",
      " [13] exec_options(opts::Base.JLOptions)\n",
      "    @ Base ./client.jl:292\n",
      " [14] _start()\n",
      "    @ Base ./client.jl:495"
     ]
    }
   ],
   "source": [
    "C[:,None]"
   ]
  },
  {
   "cell_type": "code",
   "execution_count": 120,
   "id": "30aabe33",
   "metadata": {},
   "outputs": [
    {
     "data": {
      "text/plain": [
       "2×4×2 Array{Int64, 3}:\n",
       "[:, :, 1] =\n",
       " 3417225421390113141  0  0  0\n",
       "        293168366641  0  0  0\n",
       "\n",
       "[:, :, 2] =\n",
       " 0  0  0  0\n",
       " 0  0  0  0"
      ]
     },
     "metadata": {},
     "output_type": "display_data"
    }
   ],
   "source": [
    "A = Array{Int}(undef,2,4,2)"
   ]
  },
  {
   "cell_type": "code",
   "execution_count": 121,
   "id": "85d3d2dc",
   "metadata": {},
   "outputs": [
    {
     "ename": "UndefVarError",
     "evalue": "UndefVarError: .. not defined",
     "output_type": "error",
     "traceback": [
      "UndefVarError: .. not defined\n",
      "\n",
      "Stacktrace:\n",
      "  [1] top-level scope\n",
      "    @ ~/Documents/lecture/dmft_julia/dmft.ipynb:1\n",
      "  [2] eval\n",
      "    @ ./boot.jl:373 [inlined]\n",
      "  [3] include_string(mapexpr::typeof(REPL.softscope), mod::Module, code::String, filename::String)\n",
      "    @ Base ./loading.jl:1196\n",
      "  [4] #invokelatest#2\n",
      "    @ ./essentials.jl:716 [inlined]\n",
      "  [5] invokelatest\n",
      "    @ ./essentials.jl:714 [inlined]\n",
      "  [6] (::VSCodeServer.var\"#150#151\"{VSCodeServer.NotebookRunCellArguments, String})()\n",
      "    @ VSCodeServer ~/.vscode/extensions/julialang.language-julia-1.5.11/scripts/packages/VSCodeServer/src/serve_notebook.jl:18\n",
      "  [7] withpath(f::VSCodeServer.var\"#150#151\"{VSCodeServer.NotebookRunCellArguments, String}, path::String)\n",
      "    @ VSCodeServer ~/.vscode/extensions/julialang.language-julia-1.5.11/scripts/packages/VSCodeServer/src/repl.jl:185\n",
      "  [8] notebook_runcell_request(conn::VSCodeServer.JSONRPC.JSONRPCEndpoint{Base.PipeEndpoint, Base.PipeEndpoint}, params::VSCodeServer.NotebookRunCellArguments)\n",
      "    @ VSCodeServer ~/.vscode/extensions/julialang.language-julia-1.5.11/scripts/packages/VSCodeServer/src/serve_notebook.jl:14\n",
      "  [9] dispatch_msg(x::VSCodeServer.JSONRPC.JSONRPCEndpoint{Base.PipeEndpoint, Base.PipeEndpoint}, dispatcher::VSCodeServer.JSONRPC.MsgDispatcher, msg::Dict{String, Any})\n",
      "    @ VSCodeServer.JSONRPC ~/.vscode/extensions/julialang.language-julia-1.5.11/scripts/packages/JSONRPC/src/typed.jl:67\n",
      " [10] serve_notebook(pipename::String; crashreporting_pipename::String)\n",
      "    @ VSCodeServer ~/.vscode/extensions/julialang.language-julia-1.5.11/scripts/packages/VSCodeServer/src/serve_notebook.jl:94\n",
      " [11] top-level scope\n",
      "    @ ~/.vscode/extensions/julialang.language-julia-1.5.11/scripts/notebook/notebook.jl:12\n",
      " [12] include(mod::Module, _path::String)\n",
      "    @ Base ./Base.jl:418\n",
      " [13] exec_options(opts::Base.JLOptions)\n",
      "    @ Base ./client.jl:292\n",
      " [14] _start()\n",
      "    @ Base ./client.jl:495"
     ]
    }
   ],
   "source": [
    "A[..,1] "
   ]
  },
  {
   "cell_type": "code",
   "execution_count": 122,
   "id": "ba3b771e",
   "metadata": {},
   "outputs": [
    {
     "data": {
      "text/plain": [
       "3×3 Matrix{Int64}:\n",
       " 7598251388580490081  7022329182242039649  7593476290060186227\n",
       " 8460625631237138792  8746397786379086196  3345612038820754292\n",
       " 7738135719211788652  3407352825314488179           4294995827"
      ]
     },
     "metadata": {},
     "output_type": "display_data"
    }
   ],
   "source": [
    "A = Array{Int}(undef,3,3)"
   ]
  },
  {
   "cell_type": "code",
   "execution_count": 123,
   "id": "ba413a38",
   "metadata": {},
   "outputs": [
    {
     "ename": "UndefVarError",
     "evalue": "UndefVarError: .. not defined",
     "output_type": "error",
     "traceback": [
      "UndefVarError: .. not defined\n",
      "\n",
      "Stacktrace:\n",
      "  [1] top-level scope\n",
      "    @ ~/Documents/lecture/dmft_julia/dmft.ipynb:1\n",
      "  [2] eval\n",
      "    @ ./boot.jl:373 [inlined]\n",
      "  [3] include_string(mapexpr::typeof(REPL.softscope), mod::Module, code::String, filename::String)\n",
      "    @ Base ./loading.jl:1196\n",
      "  [4] #invokelatest#2\n",
      "    @ ./essentials.jl:716 [inlined]\n",
      "  [5] invokelatest\n",
      "    @ ./essentials.jl:714 [inlined]\n",
      "  [6] (::VSCodeServer.var\"#150#151\"{VSCodeServer.NotebookRunCellArguments, String})()\n",
      "    @ VSCodeServer ~/.vscode/extensions/julialang.language-julia-1.5.11/scripts/packages/VSCodeServer/src/serve_notebook.jl:18\n",
      "  [7] withpath(f::VSCodeServer.var\"#150#151\"{VSCodeServer.NotebookRunCellArguments, String}, path::String)\n",
      "    @ VSCodeServer ~/.vscode/extensions/julialang.language-julia-1.5.11/scripts/packages/VSCodeServer/src/repl.jl:185\n",
      "  [8] notebook_runcell_request(conn::VSCodeServer.JSONRPC.JSONRPCEndpoint{Base.PipeEndpoint, Base.PipeEndpoint}, params::VSCodeServer.NotebookRunCellArguments)\n",
      "    @ VSCodeServer ~/.vscode/extensions/julialang.language-julia-1.5.11/scripts/packages/VSCodeServer/src/serve_notebook.jl:14\n",
      "  [9] dispatch_msg(x::VSCodeServer.JSONRPC.JSONRPCEndpoint{Base.PipeEndpoint, Base.PipeEndpoint}, dispatcher::VSCodeServer.JSONRPC.MsgDispatcher, msg::Dict{String, Any})\n",
      "    @ VSCodeServer.JSONRPC ~/.vscode/extensions/julialang.language-julia-1.5.11/scripts/packages/JSONRPC/src/typed.jl:67\n",
      " [10] serve_notebook(pipename::String; crashreporting_pipename::String)\n",
      "    @ VSCodeServer ~/.vscode/extensions/julialang.language-julia-1.5.11/scripts/packages/VSCodeServer/src/serve_notebook.jl:94\n",
      " [11] top-level scope\n",
      "    @ ~/.vscode/extensions/julialang.language-julia-1.5.11/scripts/notebook/notebook.jl:12\n",
      " [12] include(mod::Module, _path::String)\n",
      "    @ Base ./Base.jl:418\n",
      " [13] exec_options(opts::Base.JLOptions)\n",
      "    @ Base ./client.jl:292\n",
      " [14] _start()\n",
      "    @ Base ./client.jl:495"
     ]
    }
   ],
   "source": [
    "A[..,1]"
   ]
  },
  {
   "cell_type": "code",
   "execution_count": 124,
   "id": "5cb8c5c3",
   "metadata": {},
   "outputs": [
    {
     "data": {
      "text/plain": [
       "3-element Vector{Float64}:\n",
       " 0.2633701009362738\n",
       " 0.35134549825135764\n",
       " 0.9286167114491054"
      ]
     },
     "metadata": {},
     "output_type": "display_data"
    }
   ],
   "source": [
    "A = rand(3)"
   ]
  },
  {
   "cell_type": "code",
   "execution_count": 125,
   "id": "aac3d077",
   "metadata": {},
   "outputs": [
    {
     "data": {
      "text/plain": [
       "3×1 Matrix{Float64}:\n",
       " 0.2633701009362738\n",
       " 0.35134549825135764\n",
       " 0.9286167114491054"
      ]
     },
     "metadata": {},
     "output_type": "display_data"
    }
   ],
   "source": [
    "A[:,:] #:で範囲外の次元を増やしてくれる。あるいは、ある次元に沿った要素を全て指定してくれる、"
   ]
  },
  {
   "cell_type": "code",
   "execution_count": 126,
   "id": "b008e808",
   "metadata": {},
   "outputs": [
    {
     "name": "stdout",
     "output_type": "stream",
     "text": [
      "[1.0, 1.1111111111111112, 1.2222222222222223, 1.3333333333333333, 1.4444444444444444, 1.5555555555555556, 1.6666666666666667, 1.7777777777777777, 1.8888888888888888, 2.0]\n",
      "[1.0, 1.1111111111111112, 1.2222222222222223, 1.3333333333333333, 1.4444444444444444, 1.5555555555555556, 1.6666666666666667, 1.7777777777777777, 1.8888888888888888, 2.0]\n"
     ]
    },
    {
     "data": {
      "text/plain": [
       "10"
      ]
     },
     "metadata": {},
     "output_type": "display_data"
    }
   ],
   "source": [
    "#juliaで，aからbまで等間隔にp個区切りたかったら，\n",
    "a = 1\n",
    "b = 2\n",
    "p = 10\n",
    "c = [ range(a,b,length=p); ]\n",
    "println(c)\n",
    "d = collect(range(a, b, length=p))\n",
    "println(d)\n",
    "length(d)\n"
   ]
  },
  {
   "cell_type": "code",
   "execution_count": 127,
   "id": "ccbd9ec2",
   "metadata": {},
   "outputs": [
    {
     "data": {
      "text/plain": [
       "10-element Vector{Float64}:\n",
       "  1.0\n",
       "  2.0\n",
       "  3.0\n",
       "  4.0\n",
       "  5.0\n",
       "  6.0\n",
       "  7.0\n",
       "  8.0\n",
       "  9.0\n",
       " 10.0"
      ]
     },
     "metadata": {},
     "output_type": "display_data"
    }
   ],
   "source": [
    "e = collect(1.0:1.0:10)"
   ]
  },
  {
   "cell_type": "code",
   "execution_count": 128,
   "id": "59100bd8",
   "metadata": {},
   "outputs": [
    {
     "name": "stdout",
     "output_type": "stream",
     "text": [
      "1\n"
     ]
    }
   ],
   "source": [
    "function f(a, s=\"None\")\n",
    "    if s == \"None\"\n",
    "        println(a)\n",
    "    end\n",
    "end\n",
    "\n",
    "f(1)\n"
   ]
  },
  {
   "cell_type": "code",
   "execution_count": 129,
   "id": "c37cbe3f",
   "metadata": {},
   "outputs": [
    {
     "data": {
      "text/plain": [
       "3-element Vector{Basic}:\n",
       " 4*🐱*🐍*🐟\n",
       " 4*🐱*🐍*🐟\n",
       " 4*🐱*🐍*🐟"
      ]
     },
     "metadata": {},
     "output_type": "display_data"
    }
   ],
   "source": [
    "using OMEinsum\n",
    "catty = fill(Basic(:🐱), 2, 2)\n",
    "fish = fill(Basic(:🐟), 2, 3, 2)\n",
    "snake = fill(Basic(:🐍), 3, 3)\n",
    "medicine = ein\"ij,jki,kk->k\"(catty, fish, snake)\n"
   ]
  },
  {
   "cell_type": "markdown",
   "id": "d2cec319",
   "metadata": {},
   "source": []
  },
  {
   "cell_type": "code",
   "execution_count": 130,
   "id": "c4ed93e7",
   "metadata": {},
   "outputs": [
    {
     "data": {
      "text/plain": [
       "0 + 0im"
      ]
     },
     "metadata": {},
     "output_type": "display_data"
    }
   ],
   "source": [
    "complex(0)"
   ]
  },
  {
   "cell_type": "code",
   "execution_count": 131,
   "id": "5ccec4ac",
   "metadata": {},
   "outputs": [
    {
     "name": "stdout",
     "output_type": "stream",
     "text": [
      "1\n",
      "2\n",
      "3\n",
      "4\n",
      "5\n",
      "6\n",
      "7\n",
      "8\n",
      "9\n",
      "10\n"
     ]
    }
   ],
   "source": [
    "for iter in range(1,10)\n",
    "    println(iter)\n",
    "end\n"
   ]
  },
  {
   "cell_type": "code",
   "execution_count": 132,
   "id": "58afd2d9",
   "metadata": {},
   "outputs": [
    {
     "ename": "MethodError",
     "evalue": "MethodError: no method matching ComplexF64()\nClosest candidates are:\n  (::Type{T})(!Matched::AbstractChar) where T<:Union{AbstractChar, Number} at /Applications/Julia-1.7.app/Contents/Resources/julia/share/julia/base/char.jl:50\n  (::Type{T})(!Matched::Base.TwicePrecision) where T<:Number at /Applications/Julia-1.7.app/Contents/Resources/julia/share/julia/base/twiceprecision.jl:255\n  Complex{T}(!Matched::Complex) where T<:Real at /Applications/Julia-1.7.app/Contents/Resources/julia/share/julia/base/complex.jl:43\n  ...",
     "output_type": "error",
     "traceback": [
      "MethodError: no method matching ComplexF64()\n",
      "Closest candidates are:\n",
      "  (::Type{T})(!Matched::AbstractChar) where T<:Union{AbstractChar, Number} at /Applications/Julia-1.7.app/Contents/Resources/julia/share/julia/base/char.jl:50\n",
      "  (::Type{T})(!Matched::Base.TwicePrecision) where T<:Number at /Applications/Julia-1.7.app/Contents/Resources/julia/share/julia/base/twiceprecision.jl:255\n",
      "  Complex{T}(!Matched::Complex) where T<:Real at /Applications/Julia-1.7.app/Contents/Resources/julia/share/julia/base/complex.jl:43\n",
      "  ...\n",
      "\n",
      "Stacktrace:\n",
      "  [1] top-level scope\n",
      "    @ ~/Documents/lecture/dmft_julia/dmft.ipynb:1\n",
      "  [2] eval\n",
      "    @ ./boot.jl:373 [inlined]\n",
      "  [3] include_string(mapexpr::typeof(REPL.softscope), mod::Module, code::String, filename::String)\n",
      "    @ Base ./loading.jl:1196\n",
      "  [4] #invokelatest#2\n",
      "    @ ./essentials.jl:716 [inlined]\n",
      "  [5] invokelatest\n",
      "    @ ./essentials.jl:714 [inlined]\n",
      "  [6] (::VSCodeServer.var\"#150#151\"{VSCodeServer.NotebookRunCellArguments, String})()\n",
      "    @ VSCodeServer ~/.vscode/extensions/julialang.language-julia-1.5.11/scripts/packages/VSCodeServer/src/serve_notebook.jl:18\n",
      "  [7] withpath(f::VSCodeServer.var\"#150#151\"{VSCodeServer.NotebookRunCellArguments, String}, path::String)\n",
      "    @ VSCodeServer ~/.vscode/extensions/julialang.language-julia-1.5.11/scripts/packages/VSCodeServer/src/repl.jl:185\n",
      "  [8] notebook_runcell_request(conn::VSCodeServer.JSONRPC.JSONRPCEndpoint{Base.PipeEndpoint, Base.PipeEndpoint}, params::VSCodeServer.NotebookRunCellArguments)\n",
      "    @ VSCodeServer ~/.vscode/extensions/julialang.language-julia-1.5.11/scripts/packages/VSCodeServer/src/serve_notebook.jl:14\n",
      "  [9] dispatch_msg(x::VSCodeServer.JSONRPC.JSONRPCEndpoint{Base.PipeEndpoint, Base.PipeEndpoint}, dispatcher::VSCodeServer.JSONRPC.MsgDispatcher, msg::Dict{String, Any})\n",
      "    @ VSCodeServer.JSONRPC ~/.vscode/extensions/julialang.language-julia-1.5.11/scripts/packages/JSONRPC/src/typed.jl:67\n",
      " [10] serve_notebook(pipename::String; crashreporting_pipename::String)\n",
      "    @ VSCodeServer ~/.vscode/extensions/julialang.language-julia-1.5.11/scripts/packages/VSCodeServer/src/serve_notebook.jl:94\n",
      " [11] top-level scope\n",
      "    @ ~/.vscode/extensions/julialang.language-julia-1.5.11/scripts/notebook/notebook.jl:12\n",
      " [12] include(mod::Module, _path::String)\n",
      "    @ Base ./Base.jl:418\n",
      " [13] exec_options(opts::Base.JLOptions)\n",
      "    @ Base ./client.jl:292\n",
      " [14] _start()\n",
      "    @ Base ./client.jl:495"
     ]
    }
   ],
   "source": [
    "ComplexF64()"
   ]
  },
  {
   "cell_type": "code",
   "execution_count": 133,
   "id": "5acc47db",
   "metadata": {},
   "outputs": [
    {
     "ename": "MethodError",
     "evalue": "MethodError: no method matching (Array{ComplexF64})(::Int64)\nClosest candidates are:\n  (Array{T})(!Matched::LinearAlgebra.LQPackedQ{T, S} where S<:AbstractMatrix{T}) where T at /Applications/Julia-1.7.app/Contents/Resources/julia/share/julia/stdlib/v1.7/LinearAlgebra/src/lq.jl:168\n  (Array{T})(!Matched::UniformScaling, !Matched::Tuple{Int64, Int64}) where T at /Applications/Julia-1.7.app/Contents/Resources/julia/share/julia/stdlib/v1.7/LinearAlgebra/src/uniformscaling.jl:494\n  (Array{T})(!Matched::UniformScaling, !Matched::Integer, !Matched::Integer) where T at /Applications/Julia-1.7.app/Contents/Resources/julia/share/julia/stdlib/v1.7/LinearAlgebra/src/uniformscaling.jl:495\n  ...",
     "output_type": "error",
     "traceback": [
      "MethodError: no method matching (Array{ComplexF64})(::Int64)\n",
      "Closest candidates are:\n",
      "  (Array{T})(!Matched::LinearAlgebra.LQPackedQ{T, S} where S<:AbstractMatrix{T}) where T at /Applications/Julia-1.7.app/Contents/Resources/julia/share/julia/stdlib/v1.7/LinearAlgebra/src/lq.jl:168\n",
      "  (Array{T})(!Matched::UniformScaling, !Matched::Tuple{Int64, Int64}) where T at /Applications/Julia-1.7.app/Contents/Resources/julia/share/julia/stdlib/v1.7/LinearAlgebra/src/uniformscaling.jl:494\n",
      "  (Array{T})(!Matched::UniformScaling, !Matched::Integer, !Matched::Integer) where T at /Applications/Julia-1.7.app/Contents/Resources/julia/share/julia/stdlib/v1.7/LinearAlgebra/src/uniformscaling.jl:495\n",
      "  ...\n",
      "\n",
      "Stacktrace:\n",
      "  [1] top-level scope\n",
      "    @ ~/Documents/lecture/dmft_julia/dmft.ipynb:1\n",
      "  [2] eval\n",
      "    @ ./boot.jl:373 [inlined]\n",
      "  [3] include_string(mapexpr::typeof(REPL.softscope), mod::Module, code::String, filename::String)\n",
      "    @ Base ./loading.jl:1196\n",
      "  [4] #invokelatest#2\n",
      "    @ ./essentials.jl:716 [inlined]\n",
      "  [5] invokelatest\n",
      "    @ ./essentials.jl:714 [inlined]\n",
      "  [6] (::VSCodeServer.var\"#150#151\"{VSCodeServer.NotebookRunCellArguments, String})()\n",
      "    @ VSCodeServer ~/.vscode/extensions/julialang.language-julia-1.5.11/scripts/packages/VSCodeServer/src/serve_notebook.jl:18\n",
      "  [7] withpath(f::VSCodeServer.var\"#150#151\"{VSCodeServer.NotebookRunCellArguments, String}, path::String)\n",
      "    @ VSCodeServer ~/.vscode/extensions/julialang.language-julia-1.5.11/scripts/packages/VSCodeServer/src/repl.jl:185\n",
      "  [8] notebook_runcell_request(conn::VSCodeServer.JSONRPC.JSONRPCEndpoint{Base.PipeEndpoint, Base.PipeEndpoint}, params::VSCodeServer.NotebookRunCellArguments)\n",
      "    @ VSCodeServer ~/.vscode/extensions/julialang.language-julia-1.5.11/scripts/packages/VSCodeServer/src/serve_notebook.jl:14\n",
      "  [9] dispatch_msg(x::VSCodeServer.JSONRPC.JSONRPCEndpoint{Base.PipeEndpoint, Base.PipeEndpoint}, dispatcher::VSCodeServer.JSONRPC.MsgDispatcher, msg::Dict{String, Any})\n",
      "    @ VSCodeServer.JSONRPC ~/.vscode/extensions/julialang.language-julia-1.5.11/scripts/packages/JSONRPC/src/typed.jl:67\n",
      " [10] serve_notebook(pipename::String; crashreporting_pipename::String)\n",
      "    @ VSCodeServer ~/.vscode/extensions/julialang.language-julia-1.5.11/scripts/packages/VSCodeServer/src/serve_notebook.jl:94\n",
      " [11] top-level scope\n",
      "    @ ~/.vscode/extensions/julialang.language-julia-1.5.11/scripts/notebook/notebook.jl:12\n",
      " [12] include(mod::Module, _path::String)\n",
      "    @ Base ./Base.jl:418\n",
      " [13] exec_options(opts::Base.JLOptions)\n",
      "    @ Base ./client.jl:292\n",
      " [14] _start()\n",
      "    @ Base ./client.jl:495"
     ]
    }
   ],
   "source": [
    "Array{ComplexF64}(42)"
   ]
  },
  {
   "cell_type": "code",
   "execution_count": null,
   "id": "db34bcdf",
   "metadata": {},
   "outputs": [],
   "source": []
  },
  {
   "cell_type": "code",
   "execution_count": 153,
   "id": "2d740831",
   "metadata": {},
   "outputs": [
    {
     "name": "stdout",
     "output_type": "stream",
     "text": [
      "[0.5, 1.0]"
     ]
    }
   ],
   "source": []
  },
  {
   "cell_type": "code",
   "execution_count": 22,
   "id": "31167859",
   "metadata": {},
   "outputs": [
    {
     "name": "stdout",
     "output_type": "stream",
     "text": [
      "[1; 2; 3;;]\n",
      "[1; 2; 3; 4; 5;;]\n"
     ]
    }
   ],
   "source": [
    "a = [1,2,3]\n",
    "b = [1,2,3,4,5]\n",
    "println(a[:,:])\n",
    "println(b[:,:])\n"
   ]
  },
  {
   "cell_type": "code",
   "execution_count": 25,
   "id": "5252182f",
   "metadata": {},
   "outputs": [
    {
     "data": {
      "text/plain": [
       "3-element Vector{Float64}:\n",
       " 0.48102117655001453\n",
       " 0.26779376324341264\n",
       " 0.7763749611208386"
      ]
     },
     "execution_count": 25,
     "metadata": {},
     "output_type": "execute_result"
    }
   ],
   "source": [
    "# https://compneuro-julia.github.io/appendix/tips.html\n",
    "\n",
    "v = rand(3)\n"
   ]
  },
  {
   "cell_type": "code",
   "execution_count": 26,
   "id": "c8bfc1b3",
   "metadata": {},
   "outputs": [
    {
     "data": {
      "text/plain": [
       "1×3 Matrix{Float64}:\n",
       " 0.481021  0.267794  0.776375"
      ]
     },
     "execution_count": 26,
     "metadata": {},
     "output_type": "execute_result"
    }
   ],
   "source": [
    "newaxis = [CartesianIndex()]\n",
    "v1 = v[newaxis, :]"
   ]
  },
  {
   "cell_type": "code",
   "execution_count": 27,
   "id": "65cce269",
   "metadata": {},
   "outputs": [
    {
     "data": {
      "text/plain": [
       "3×1 Matrix{Float64}:\n",
       " 0.48102117655001453\n",
       " 0.26779376324341264\n",
       " 0.7763749611208386"
      ]
     },
     "execution_count": 27,
     "metadata": {},
     "output_type": "execute_result"
    }
   ],
   "source": [
    "v2 = v[:, newaxis]"
   ]
  },
  {
   "cell_type": "code",
   "execution_count": 28,
   "id": "155bee87",
   "metadata": {},
   "outputs": [
    {
     "data": {
      "text/plain": [
       "3×3 Matrix{Float64}:\n",
       "  0.0       0.213227  -0.295354\n",
       " -0.213227  0.0       -0.508581\n",
       "  0.295354  0.508581   0.0"
      ]
     },
     "execution_count": 28,
     "metadata": {},
     "output_type": "execute_result"
    }
   ],
   "source": [
    "v2 .- v1"
   ]
  },
  {
   "cell_type": "code",
   "execution_count": null,
   "id": "6e9edb0f",
   "metadata": {},
   "outputs": [],
   "source": [
    "v = [1,2,3]\n",
    "w = [1,2,3,4,5]\n",
    "newaxis = [CartesianIndex()]\n",
    "v_ = v[newaxis, :]\n",
    "println(\"\")\n",
    "w_ = w[:, newaxis]\n",
    "\n",
    "w_ .- v_\n",
    "\n",
    "#複素数\n",
    "a = [1+im*1, 2+2*im] #3*1行列\n",
    "b = [3+im*1, 2+2*im, 3+3*im] #1*3行列\n",
    "\n",
    "c = [1+1*im, 2+2*im, 3+3*im]\n",
    "d = [1+1*im, 2+2*im, 3+3*im]\n",
    "println(\"c=\", c)\n",
    "println(\"typeof c=\", typeof(c))\n",
    "println(\"d=\", d)\n",
    "println(\"typeof d=\", typeof(d))\n",
    "\n",
    "e = a[:,newaxis] .- b[newaxis, :]\n",
    "println(\"e=\", e)\n",
    "println(\"typeof e=\", typeof(e))\n",
    "\n",
    "r = ein\"q,q,wq->w\"(c,d,e)\n",
    "#\n",
    "print(r)"
   ]
  },
  {
   "cell_type": "code",
   "execution_count": null,
   "id": "45a59ed2",
   "metadata": {},
   "outputs": [],
   "source": [
    "#println(\"v\", size(v[:,:]))\n",
    "\n",
    "#newaxis\n",
    "newaxis = [CartesianIndex()]\n",
    "#println(\"v_newaxis=\", v[:,newaxis])\n",
    "\n",
    "#println(\"solver.quad_omega[newaxis,:]=\", solver.quad_omega[newaxis,:])\n",
    "\n",
    "a = v[:,newaxis] .- solver.quad_omega[newaxis,:]\n",
    "sigma_iv_ = make_sigma_ini(solver)\n",
    "b = (iv .- sigma_iv_)[:, newaxis]\n",
    "c = b .- solver.quad_omega[newaxis,:]\n",
    "d = rho_omega(solver.quad_omega)\n",
    "e = solver.quad_weight\n",
    "\n",
    "f = 1 ./ (c)\n",
    "\n",
    "#r = ein\"q,q\"\n",
    "\n",
    "\n",
    "\n",
    "r = ein\"q,q,wq->w\"(\n",
    "            e,\n",
    "            d,\n",
    "            f\n",
    "        )\n",
    "\n",
    "\n",
    "r_ = ein\"q,q,wq->w\"(\n",
    "        solver.quad_weight,\n",
    "        rho_omega(solver.quad_omega),\n",
    "        1 ./ ((iv .- sigma_iv_)[:, newaxis] .- solver.quad_omega[newaxis, :])\n",
    "    )"
   ]
  },
  {
   "cell_type": "markdown",
   "id": "0aee9c82",
   "metadata": {},
   "source": []
  },
  {
   "cell_type": "markdown",
   "id": "aa120540",
   "metadata": {},
   "source": []
  }
 ],
 "metadata": {
  "kernelspec": {
   "display_name": "Julia 1.7.0",
   "language": "julia",
   "name": "julia-1.7"
  },
  "language_info": {
   "file_extension": ".jl",
   "mimetype": "application/julia",
   "name": "julia",
   "version": "1.7.0"
  }
 },
 "nbformat": 4,
 "nbformat_minor": 5
}
